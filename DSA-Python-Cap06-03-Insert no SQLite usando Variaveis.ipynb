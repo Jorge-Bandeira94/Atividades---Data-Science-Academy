{
 "cells": [
  {
   "cell_type": "markdown",
   "metadata": {},
   "source": [
    "# <font color='blue'>Data Science Academy - Python Fundamentos - Capítulo 6</font>\n",
    "\n",
    "## Download: http://github.com/dsacademybr"
   ]
  },
  {
   "cell_type": "markdown",
   "metadata": {},
   "source": [
    "### Inserindo Dados com Variáveis"
   ]
  },
  {
   "cell_type": "code",
   "execution_count": 1,
   "metadata": {},
   "outputs": [],
   "source": [
    "import sqlite3\n",
    "import random\n",
    "import time\n",
    "import datetime\n",
    " \n",
    "# Criando uma conexão\n",
    "conn = sqlite3.connect('dsa.db')   \n",
    "\n",
    "# Criando um cursor\n",
    "c = conn.cursor()\n",
    " \n",
    "# Função para criar uma tabela\n",
    "def create_table():\n",
    "    c.execute('CREATE TABLE IF NOT EXISTS produtos(id INTEGER PRIMARY KEY AUTOINCREMENT NOT NULL, data TEXT, '\\\n",
    "              'prod_name TEXT, valor REAL)')\n",
    "    \n",
    "# Função para inserir uma linha\n",
    "def data_insert():\n",
    "    c.execute(\"INSERT INTO produtos VALUES('1', '2018-05-02 12:34:45', 'Teclado', 130.00 )\")\n",
    "    \n",
    "# Usando variáveis para inserir dados    \n",
    "def data_insert_var():\n",
    "    new_date = datetime.datetime.now()\n",
    "    new_prod_name = 'Monitor'\n",
    "    new_valor = random.randrange(50,100)\n",
    "    c.execute('INSERT INTO produtos (data, prod_name, valor) VALUES (?, ?, ?)', (new_date, new_prod_name, new_valor))\n",
    "    "
   ]
  },
  {
   "cell_type": "code",
   "execution_count": 2,
   "metadata": {},
   "outputs": [],
   "source": [
    "create_table()\n",
    "data_insert()"
   ]
  },
  {
   "cell_type": "code",
   "execution_count": 3,
   "metadata": {},
   "outputs": [],
   "source": [
    "# Gerando valores e inserindo na tabela\n",
    "for i in range(10):\n",
    "    data_insert_var()\n",
    "    time.sleep(1)"
   ]
  },
  {
   "cell_type": "code",
   "execution_count": 4,
   "metadata": {},
   "outputs": [],
   "source": [
    "select = 'SELECT * FROM produtos'\n",
    "c.execute(select)\n",
    "dados = c.fetchall()"
   ]
  },
  {
   "cell_type": "code",
   "execution_count": 5,
   "metadata": {},
   "outputs": [
    {
     "name": "stdout",
     "output_type": "stream",
     "text": [
      "(1, '2018-05-02 12:34:45', 'Teclado', 130.0)\n",
      "(10, '2018-05-02 14:32:11', 'Teclado', 90.0)\n",
      "(11, '2021-09-21 19:33:11.946038', 'Monitor', 58.0)\n",
      "(12, '2021-09-21 19:33:12.953917', 'Monitor', 52.0)\n",
      "(13, '2021-09-21 19:33:13.961417', 'Monitor', 93.0)\n",
      "(14, '2021-09-21 19:33:14.964096', 'Monitor', 80.0)\n",
      "(15, '2021-09-21 19:33:15.966489', 'Monitor', 55.0)\n",
      "(16, '2021-09-21 19:33:16.967496', 'Monitor', 93.0)\n",
      "(17, '2021-09-21 19:33:17.981539', 'Monitor', 97.0)\n",
      "(18, '2021-09-21 19:33:18.985415', 'Monitor', 78.0)\n",
      "(19, '2021-09-21 19:33:19.986068', 'Monitor', 81.0)\n",
      "(20, '2021-09-21 19:33:20.986277', 'Monitor', 54.0)\n"
     ]
    }
   ],
   "source": [
    "for i in dados:\n",
    "    print(i)"
   ]
  },
  {
   "cell_type": "code",
   "execution_count": 6,
   "metadata": {},
   "outputs": [],
   "source": [
    "# Colocando variáveis no c.execute (não funciona com f'string, {variavel}')\n",
    "a = '2021-08-02 20:22:15'\n",
    "b = 'Teclado'\n",
    "d = '100.00'"
   ]
  },
  {
   "cell_type": "code",
   "execution_count": 8,
   "metadata": {},
   "outputs": [
    {
     "data": {
      "text/plain": [
       "<sqlite3.Cursor at 0x1d7e13a9960>"
      ]
     },
     "execution_count": 8,
     "metadata": {},
     "output_type": "execute_result"
    }
   ],
   "source": [
    "c.execute('INSERT INTO produtos (data, prod_name, valor) VALUES (?, ?, ?)', (a, b, d))"
   ]
  },
  {
   "cell_type": "code",
   "execution_count": 9,
   "metadata": {},
   "outputs": [],
   "source": [
    "c.execute(select)\n",
    "dados2 = c.fetchall()"
   ]
  },
  {
   "cell_type": "code",
   "execution_count": 10,
   "metadata": {},
   "outputs": [
    {
     "name": "stdout",
     "output_type": "stream",
     "text": [
      "(1, '2018-05-02 12:34:45', 'Teclado', 130.0)\n",
      "(10, '2018-05-02 14:32:11', 'Teclado', 90.0)\n",
      "(11, '2021-09-21 19:33:11.946038', 'Monitor', 58.0)\n",
      "(12, '2021-09-21 19:33:12.953917', 'Monitor', 52.0)\n",
      "(13, '2021-09-21 19:33:13.961417', 'Monitor', 93.0)\n",
      "(14, '2021-09-21 19:33:14.964096', 'Monitor', 80.0)\n",
      "(15, '2021-09-21 19:33:15.966489', 'Monitor', 55.0)\n",
      "(16, '2021-09-21 19:33:16.967496', 'Monitor', 93.0)\n",
      "(17, '2021-09-21 19:33:17.981539', 'Monitor', 97.0)\n",
      "(18, '2021-09-21 19:33:18.985415', 'Monitor', 78.0)\n",
      "(19, '2021-09-21 19:33:19.986068', 'Monitor', 81.0)\n",
      "(20, '2021-09-21 19:33:20.986277', 'Monitor', 54.0)\n",
      "(21, '2021-08-02 20:22:15', 'Teclado', 100.0)\n"
     ]
    }
   ],
   "source": [
    "for i in dados2:\n",
    "    print(i)"
   ]
  },
  {
   "cell_type": "code",
   "execution_count": 11,
   "metadata": {},
   "outputs": [],
   "source": [
    "# Encerrando a conexão\n",
    "c.close()\n",
    "conn.close()"
   ]
  },
  {
   "cell_type": "markdown",
   "metadata": {},
   "source": [
    "# Fim"
   ]
  },
  {
   "cell_type": "markdown",
   "metadata": {},
   "source": [
    "### Obrigado - Data Science Academy - <a href=\"http://facebook.com/dsacademybr\">facebook.com/dsacademybr</a>"
   ]
  }
 ],
 "metadata": {
  "kernelspec": {
   "display_name": "Python 3",
   "language": "python",
   "name": "python3"
  },
  "language_info": {
   "codemirror_mode": {
    "name": "ipython",
    "version": 3
   },
   "file_extension": ".py",
   "mimetype": "text/x-python",
   "name": "python",
   "nbconvert_exporter": "python",
   "pygments_lexer": "ipython3",
   "version": "3.8.8"
  }
 },
 "nbformat": 4,
 "nbformat_minor": 1
}
