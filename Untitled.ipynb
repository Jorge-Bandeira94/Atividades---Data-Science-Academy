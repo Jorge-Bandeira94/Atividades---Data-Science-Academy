{
 "cells": [
  {
   "cell_type": "code",
   "execution_count": 2,
   "id": "4992d12b",
   "metadata": {},
   "outputs": [],
   "source": [
    "!pip install -q pycountry"
   ]
  },
  {
   "cell_type": "code",
   "execution_count": 3,
   "id": "264df0a1",
   "metadata": {},
   "outputs": [],
   "source": [
    "import re #Expressões para processamento de texto\n",
    "import time  #trabalhar com datas\n",
    "import sqlite3 #Banco de dados SQLITE\n",
    "import pycountry\n",
    "import numpy as np  #manipulação de dados\n",
    "import pandas as pd #manipulação de dados\n",
    "import matplotlib.pyplot as plt #Vizualização de dados\n",
    "import seaborn as sns #Vizualização de dados\n",
    "from matplotlib import cm #'Vizualização de dados\n",
    "from sklearn.feature_extraction.text import CountVectorizer #Machine learning\n",
    "import warnings # Filtrar qualquer tipo de alerta, para não poluir\n",
    "warnings.filterwarnings('ignore')\n",
    "sns.set_theme(style = 'whitegrid') #tema para os gráficos"
   ]
  },
  {
   "cell_type": "code",
   "execution_count": 4,
   "id": "0020c02b",
   "metadata": {},
   "outputs": [],
   "source": [
    "# Conexão\n",
    "conn = sqlite3.connect(\"imdb.db\")"
   ]
  },
  {
   "cell_type": "code",
   "execution_count": 6,
   "id": "5f363691",
   "metadata": {},
   "outputs": [],
   "source": [
    "# Consulta SQL para poder retornar o nome de cada tabela. (sqlite_master é uma tabela de catalogo do sqlite). A query está associada a conn (conexão)\n",
    "# O comando pd.read_sql_query faz parte do pandas, ele retorna um DataFrame correspondente ao conjunto de resultados da sequência de consulta. Opcionalmente forneça um parâmetro index_col para usar uma das colunas como o índice, caso contrário, o índice inteiro padrão será usado.\n",
    "tabelas = pd.read_sql_query(\"SELECT name AS 'Table_name' FROM sqlite_master WHERE type = 'table'\", conn)"
   ]
  },
  {
   "cell_type": "code",
   "execution_count": 8,
   "id": "74922367",
   "metadata": {},
   "outputs": [
    {
     "name": "stdout",
     "output_type": "stream",
     "text": [
      "<class 'pandas.core.frame.DataFrame'>\n"
     ]
    },
    {
     "data": {
      "text/html": [
       "<div>\n",
       "<style scoped>\n",
       "    .dataframe tbody tr th:only-of-type {\n",
       "        vertical-align: middle;\n",
       "    }\n",
       "\n",
       "    .dataframe tbody tr th {\n",
       "        vertical-align: top;\n",
       "    }\n",
       "\n",
       "    .dataframe thead th {\n",
       "        text-align: right;\n",
       "    }\n",
       "</style>\n",
       "<table border=\"1\" class=\"dataframe\">\n",
       "  <thead>\n",
       "    <tr style=\"text-align: right;\">\n",
       "      <th></th>\n",
       "      <th>Table_name</th>\n",
       "    </tr>\n",
       "  </thead>\n",
       "  <tbody>\n",
       "    <tr>\n",
       "      <th>0</th>\n",
       "      <td>people</td>\n",
       "    </tr>\n",
       "    <tr>\n",
       "      <th>1</th>\n",
       "      <td>titles</td>\n",
       "    </tr>\n",
       "    <tr>\n",
       "      <th>2</th>\n",
       "      <td>akas</td>\n",
       "    </tr>\n",
       "    <tr>\n",
       "      <th>3</th>\n",
       "      <td>crew</td>\n",
       "    </tr>\n",
       "    <tr>\n",
       "      <th>4</th>\n",
       "      <td>episodes</td>\n",
       "    </tr>\n",
       "  </tbody>\n",
       "</table>\n",
       "</div>"
      ],
      "text/plain": [
       "  Table_name\n",
       "0     people\n",
       "1     titles\n",
       "2       akas\n",
       "3       crew\n",
       "4   episodes"
      ]
     },
     "execution_count": 8,
     "metadata": {},
     "output_type": "execute_result"
    }
   ],
   "source": [
    "print(type(tabelas)) # Verificar o tipo do objeto\n",
    "tabelas.head() # Dataframe com os nomes das tabelas"
   ]
  },
  {
   "cell_type": "code",
   "execution_count": 9,
   "id": "ee1987ab",
   "metadata": {},
   "outputs": [],
   "source": [
    "# Converter o dataframe para uma lista -\n",
    "tabelas = tabelas[\"Table_name\"].values.tolist()"
   ]
  },
  {
   "cell_type": "code",
   "execution_count": 10,
   "id": "f7916c6f",
   "metadata": {},
   "outputs": [
    {
     "name": "stdout",
     "output_type": "stream",
     "text": [
      "Esquema de tabela: people\n",
      "   cid       name     type  notnull dflt_value  pk\n",
      "0    0  person_id  VARCHAR        0       None   1\n",
      "1    1       name  VARCHAR        0       None   0\n",
      "2    2       born  INTEGER        0       None   0\n",
      "3    3       died  INTEGER        0       None   0\n",
      "----------------------------------------------------------------------------------------------------\n",
      "\n",
      "\n",
      "Esquema de tabela: titles\n",
      "   cid             name     type  notnull dflt_value  pk\n",
      "0    0         title_id  VARCHAR        0       None   1\n",
      "1    1             type  VARCHAR        0       None   0\n",
      "2    2    primary_title  VARCHAR        0       None   0\n",
      "3    3   original_title  VARCHAR        0       None   0\n",
      "4    4         is_adult  INTEGER        0       None   0\n",
      "5    5        premiered  INTEGER        0       None   0\n",
      "6    6            ended  INTEGER        0       None   0\n",
      "7    7  runtime_minutes  INTEGER        0       None   0\n",
      "8    8           genres  VARCHAR        0       None   0\n",
      "----------------------------------------------------------------------------------------------------\n",
      "\n",
      "\n",
      "Esquema de tabela: akas\n",
      "   cid               name     type  notnull dflt_value  pk\n",
      "0    0           title_id  VARCHAR        0       None   0\n",
      "1    1              title  VARCHAR        0       None   0\n",
      "2    2             region  VARCHAR        0       None   0\n",
      "3    3           language  VARCHAR        0       None   0\n",
      "4    4              types  VARCHAR        0       None   0\n",
      "5    5         attributes  VARCHAR        0       None   0\n",
      "6    6  is_original_title  INTEGER        0       None   0\n",
      "----------------------------------------------------------------------------------------------------\n",
      "\n",
      "\n",
      "Esquema de tabela: crew\n",
      "   cid        name     type  notnull dflt_value  pk\n",
      "0    0    title_id  VARCHAR        0       None   0\n",
      "1    1   person_id  VARCHAR        0       None   0\n",
      "2    2    category  VARCHAR        0       None   0\n",
      "3    3         job  VARCHAR        0       None   0\n",
      "4    4  characters  VARCHAR        0       None   0\n",
      "----------------------------------------------------------------------------------------------------\n",
      "\n",
      "\n",
      "Esquema de tabela: episodes\n",
      "   cid              name     type  notnull dflt_value  pk\n",
      "0    0  episode_title_id  INTEGER        0       None   0\n",
      "1    1     show_title_id  INTEGER        0       None   0\n",
      "2    2     season_number  INTEGER        0       None   0\n",
      "3    3    eposide_number  INTEGER        0       None   0\n",
      "----------------------------------------------------------------------------------------------------\n",
      "\n",
      "\n",
      "Esquema de tabela: ratings\n",
      "   cid      name     type  notnull dflt_value  pk\n",
      "0    0  title_id  VARCHAR        0       None   1\n",
      "1    1    rating  INTEGER        0       None   0\n",
      "2    2     votes  INTEGER        0       None   0\n",
      "----------------------------------------------------------------------------------------------------\n",
      "\n",
      "\n"
     ]
    }
   ],
   "source": [
    "# Percorrer a lista de tabelas no banco de dados e extrair o esquema de cada uma.\n",
    "for tabela in tabelas:\n",
    "    consulta = \"PRAGMA TABLE_INFO({})\".format(tabela) # O pragma é usado para consultar informações sobre uma tabela específica. O conjunto de resultados conterá uma linha para cada coluna na tabela.table_info\n",
    "    resultado = pd.read_sql_query(consulta, conn) # pd.read... é um comando que recebe como parametro a variavel 'consulta'\n",
    "    print(\"Esquema de tabela:\", tabela)\n",
    "    print(resultado)\n",
    "    print(\"-\"*100)\n",
    "    print(\"\\n\")"
   ]
  },
  {
   "cell_type": "code",
   "execution_count": 17,
   "id": "ece0663c",
   "metadata": {},
   "outputs": [],
   "source": [
    "# Análise exploratória de dados\n",
    "# Quais as categorias de filmes mais comuns no IMDB?\n",
    "\n",
    "# Pesquisa SQL\n",
    "consulta1 = 'SELECT type, COUNT (*) AS COUNT FROM titles GROUP BY type'"
   ]
  },
  {
   "cell_type": "code",
   "execution_count": 18,
   "id": "e5c7232e",
   "metadata": {},
   "outputs": [],
   "source": [
    "resultado1 = pd.read_sql_query(consulta1, conn)"
   ]
  },
  {
   "cell_type": "code",
   "execution_count": 20,
   "id": "32923385",
   "metadata": {},
   "outputs": [
    {
     "data": {
      "text/html": [
       "<div>\n",
       "<style scoped>\n",
       "    .dataframe tbody tr th:only-of-type {\n",
       "        vertical-align: middle;\n",
       "    }\n",
       "\n",
       "    .dataframe tbody tr th {\n",
       "        vertical-align: top;\n",
       "    }\n",
       "\n",
       "    .dataframe thead th {\n",
       "        text-align: right;\n",
       "    }\n",
       "</style>\n",
       "<table border=\"1\" class=\"dataframe\">\n",
       "  <thead>\n",
       "    <tr style=\"text-align: right;\">\n",
       "      <th></th>\n",
       "      <th>type</th>\n",
       "      <th>COUNT</th>\n",
       "    </tr>\n",
       "  </thead>\n",
       "  <tbody>\n",
       "    <tr>\n",
       "      <th>0</th>\n",
       "      <td>movie</td>\n",
       "      <td>588654</td>\n",
       "    </tr>\n",
       "    <tr>\n",
       "      <th>1</th>\n",
       "      <td>radioEpisode</td>\n",
       "      <td>1</td>\n",
       "    </tr>\n",
       "    <tr>\n",
       "      <th>2</th>\n",
       "      <td>short</td>\n",
       "      <td>832035</td>\n",
       "    </tr>\n",
       "    <tr>\n",
       "      <th>3</th>\n",
       "      <td>tvEpisode</td>\n",
       "      <td>6080142</td>\n",
       "    </tr>\n",
       "    <tr>\n",
       "      <th>4</th>\n",
       "      <td>tvMiniSeries</td>\n",
       "      <td>39843</td>\n",
       "    </tr>\n",
       "    <tr>\n",
       "      <th>5</th>\n",
       "      <td>tvMovie</td>\n",
       "      <td>133027</td>\n",
       "    </tr>\n",
       "    <tr>\n",
       "      <th>6</th>\n",
       "      <td>tvPilot</td>\n",
       "      <td>1</td>\n",
       "    </tr>\n",
       "    <tr>\n",
       "      <th>7</th>\n",
       "      <td>tvSeries</td>\n",
       "      <td>215328</td>\n",
       "    </tr>\n",
       "    <tr>\n",
       "      <th>8</th>\n",
       "      <td>tvShort</td>\n",
       "      <td>10286</td>\n",
       "    </tr>\n",
       "    <tr>\n",
       "      <th>9</th>\n",
       "      <td>tvSpecial</td>\n",
       "      <td>34204</td>\n",
       "    </tr>\n",
       "    <tr>\n",
       "      <th>10</th>\n",
       "      <td>video</td>\n",
       "      <td>322353</td>\n",
       "    </tr>\n",
       "    <tr>\n",
       "      <th>11</th>\n",
       "      <td>videoGame</td>\n",
       "      <td>29288</td>\n",
       "    </tr>\n",
       "  </tbody>\n",
       "</table>\n",
       "</div>"
      ],
      "text/plain": [
       "            type    COUNT\n",
       "0          movie   588654\n",
       "1   radioEpisode        1\n",
       "2          short   832035\n",
       "3      tvEpisode  6080142\n",
       "4   tvMiniSeries    39843\n",
       "5        tvMovie   133027\n",
       "6        tvPilot        1\n",
       "7       tvSeries   215328\n",
       "8        tvShort    10286\n",
       "9      tvSpecial    34204\n",
       "10         video   322353\n",
       "11     videoGame    29288"
      ]
     },
     "metadata": {},
     "output_type": "display_data"
    }
   ],
   "source": [
    "display(resultado1)"
   ]
  },
  {
   "cell_type": "code",
   "execution_count": 22,
   "id": "0db83e64",
   "metadata": {},
   "outputs": [],
   "source": [
    "# Calcular o percentual de cada tipo criando uma coluna. Dividir o resultado de cada linha pela somar do todo e multiplicando por 100\n",
    "# Adicionar uma nova coluna é simples, bastando chamar  a variavel com os dados e adicionar ['nome da coluna']\n",
    "resultado1['Percentual'] = (resultado1['COUNT'] / resultado1['COUNT'].sum()) * 100"
   ]
  },
  {
   "cell_type": "code",
   "execution_count": 23,
   "id": "8f8e6b83",
   "metadata": {},
   "outputs": [
    {
     "data": {
      "text/html": [
       "<div>\n",
       "<style scoped>\n",
       "    .dataframe tbody tr th:only-of-type {\n",
       "        vertical-align: middle;\n",
       "    }\n",
       "\n",
       "    .dataframe tbody tr th {\n",
       "        vertical-align: top;\n",
       "    }\n",
       "\n",
       "    .dataframe thead th {\n",
       "        text-align: right;\n",
       "    }\n",
       "</style>\n",
       "<table border=\"1\" class=\"dataframe\">\n",
       "  <thead>\n",
       "    <tr style=\"text-align: right;\">\n",
       "      <th></th>\n",
       "      <th>type</th>\n",
       "      <th>COUNT</th>\n",
       "      <th>Percentual</th>\n",
       "    </tr>\n",
       "  </thead>\n",
       "  <tbody>\n",
       "    <tr>\n",
       "      <th>0</th>\n",
       "      <td>movie</td>\n",
       "      <td>588654</td>\n",
       "      <td>7.104918</td>\n",
       "    </tr>\n",
       "    <tr>\n",
       "      <th>1</th>\n",
       "      <td>radioEpisode</td>\n",
       "      <td>1</td>\n",
       "      <td>0.000012</td>\n",
       "    </tr>\n",
       "    <tr>\n",
       "      <th>2</th>\n",
       "      <td>short</td>\n",
       "      <td>832035</td>\n",
       "      <td>10.042471</td>\n",
       "    </tr>\n",
       "    <tr>\n",
       "      <th>3</th>\n",
       "      <td>tvEpisode</td>\n",
       "      <td>6080142</td>\n",
       "      <td>73.385916</td>\n",
       "    </tr>\n",
       "    <tr>\n",
       "      <th>4</th>\n",
       "      <td>tvMiniSeries</td>\n",
       "      <td>39843</td>\n",
       "      <td>0.480896</td>\n",
       "    </tr>\n",
       "    <tr>\n",
       "      <th>5</th>\n",
       "      <td>tvMovie</td>\n",
       "      <td>133027</td>\n",
       "      <td>1.605605</td>\n",
       "    </tr>\n",
       "    <tr>\n",
       "      <th>6</th>\n",
       "      <td>tvPilot</td>\n",
       "      <td>1</td>\n",
       "      <td>0.000012</td>\n",
       "    </tr>\n",
       "    <tr>\n",
       "      <th>7</th>\n",
       "      <td>tvSeries</td>\n",
       "      <td>215328</td>\n",
       "      <td>2.598959</td>\n",
       "    </tr>\n",
       "    <tr>\n",
       "      <th>8</th>\n",
       "      <td>tvShort</td>\n",
       "      <td>10286</td>\n",
       "      <td>0.124150</td>\n",
       "    </tr>\n",
       "    <tr>\n",
       "      <th>9</th>\n",
       "      <td>tvSpecial</td>\n",
       "      <td>34204</td>\n",
       "      <td>0.412834</td>\n",
       "    </tr>\n",
       "    <tr>\n",
       "      <th>10</th>\n",
       "      <td>video</td>\n",
       "      <td>322353</td>\n",
       "      <td>3.890727</td>\n",
       "    </tr>\n",
       "    <tr>\n",
       "      <th>11</th>\n",
       "      <td>videoGame</td>\n",
       "      <td>29288</td>\n",
       "      <td>0.353499</td>\n",
       "    </tr>\n",
       "  </tbody>\n",
       "</table>\n",
       "</div>"
      ],
      "text/plain": [
       "            type    COUNT  Percentual\n",
       "0          movie   588654    7.104918\n",
       "1   radioEpisode        1    0.000012\n",
       "2          short   832035   10.042471\n",
       "3      tvEpisode  6080142   73.385916\n",
       "4   tvMiniSeries    39843    0.480896\n",
       "5        tvMovie   133027    1.605605\n",
       "6        tvPilot        1    0.000012\n",
       "7       tvSeries   215328    2.598959\n",
       "8        tvShort    10286    0.124150\n",
       "9      tvSpecial    34204    0.412834\n",
       "10         video   322353    3.890727\n",
       "11     videoGame    29288    0.353499"
      ]
     },
     "metadata": {},
     "output_type": "display_data"
    }
   ],
   "source": [
    "# Visualizando o resultado\n",
    "display(resultado1)"
   ]
  },
  {
   "cell_type": "code",
   "execution_count": 25,
   "id": "14135c3a",
   "metadata": {},
   "outputs": [],
   "source": [
    "# Retornar apenas algumas categorias, as com mais titulos e outra como uma categoria que engolba o restante\n",
    "\n",
    "# Criar dicionário vazio\n",
    "outros = {}\n",
    "\n",
    "# Filtrar percentual em 5% do total\n",
    "# Outros esta recebendo a coluna COUNT, resultado1 faz a busca na tabela nesta coluna,e uma subconsulta especifica por uma segunda busca considerando\n",
    "# apenas a coluna percentual menor que 5, todo resultado que é encontrado então é somado ao final com .sum()\n",
    "outros['COUNT'] = resultado1[resultado1['Percentual'] < 5 ]['COUNT'].sum()\n",
    "\n",
    "# Gravando o resultado\n",
    "outros['Percentual'] = resultado1[resultado1['Percentual'] < 5]['Percentual'].sum()\n",
    "\n",
    "# Criando o tipo da coluna\n",
    "outros['type'] = 'Outros'\n"
   ]
  },
  {
   "cell_type": "code",
   "execution_count": 26,
   "id": "a70e18bb",
   "metadata": {},
   "outputs": [
    {
     "data": {
      "text/plain": [
       "{'COUNT': 784331, 'Percentual': 9.466694797277349, 'type': 'Outros'}"
      ]
     },
     "execution_count": 26,
     "metadata": {},
     "output_type": "execute_result"
    }
   ],
   "source": [
    "# Vizualizar, qualquer categoria com menos de 5% entrou aqui\n",
    "outros"
   ]
  },
  {
   "cell_type": "code",
   "execution_count": 27,
   "id": "91efe1fe",
   "metadata": {},
   "outputs": [],
   "source": [
    "# Filtrar dataframe por resultado\n",
    "resultado1 = resultado1[resultado1['Percentual'] > 5]"
   ]
  },
  {
   "cell_type": "code",
   "execution_count": 28,
   "id": "2d3b052b",
   "metadata": {},
   "outputs": [],
   "source": [
    "# Juntando o novo resultado com o resultado de Outros\n",
    "resultado1 = resultado1.append(outros, ignore_index = True)"
   ]
  },
  {
   "cell_type": "code",
   "execution_count": 31,
   "id": "90a11b03",
   "metadata": {},
   "outputs": [],
   "source": [
    "# Ordenar o resultado por COUNT\n",
    "resultado1 = resultado1.sort_values(by = 'COUNT', ascending = False)"
   ]
  },
  {
   "cell_type": "code",
   "execution_count": 35,
   "id": "ddc6d6fa",
   "metadata": {},
   "outputs": [
    {
     "data": {
      "text/html": [
       "<div>\n",
       "<style scoped>\n",
       "    .dataframe tbody tr th:only-of-type {\n",
       "        vertical-align: middle;\n",
       "    }\n",
       "\n",
       "    .dataframe tbody tr th {\n",
       "        vertical-align: top;\n",
       "    }\n",
       "\n",
       "    .dataframe thead th {\n",
       "        text-align: right;\n",
       "    }\n",
       "</style>\n",
       "<table border=\"1\" class=\"dataframe\">\n",
       "  <thead>\n",
       "    <tr style=\"text-align: right;\">\n",
       "      <th></th>\n",
       "      <th>type</th>\n",
       "      <th>COUNT</th>\n",
       "      <th>Percentual</th>\n",
       "    </tr>\n",
       "  </thead>\n",
       "  <tbody>\n",
       "    <tr>\n",
       "      <th>2</th>\n",
       "      <td>tvEpisode</td>\n",
       "      <td>6080142</td>\n",
       "      <td>73.385916</td>\n",
       "    </tr>\n",
       "    <tr>\n",
       "      <th>1</th>\n",
       "      <td>short</td>\n",
       "      <td>832035</td>\n",
       "      <td>10.042471</td>\n",
       "    </tr>\n",
       "    <tr>\n",
       "      <th>3</th>\n",
       "      <td>Outros</td>\n",
       "      <td>784331</td>\n",
       "      <td>9.466695</td>\n",
       "    </tr>\n",
       "    <tr>\n",
       "      <th>0</th>\n",
       "      <td>movie</td>\n",
       "      <td>588654</td>\n",
       "      <td>7.104918</td>\n",
       "    </tr>\n",
       "  </tbody>\n",
       "</table>\n",
       "</div>"
      ],
      "text/plain": [
       "        type    COUNT  Percentual\n",
       "2  tvEpisode  6080142   73.385916\n",
       "1      short   832035   10.042471\n",
       "3     Outros   784331    9.466695\n",
       "0      movie   588654    7.104918"
      ]
     },
     "metadata": {},
     "output_type": "display_data"
    }
   ],
   "source": [
    "# Visualizar (Só irão aparecer 4 resultados pois acima de 5% só ha 3 tipos)\n",
    "display(resultado1)"
   ]
  },
  {
   "cell_type": "code",
   "execution_count": 40,
   "id": "ebd49e06",
   "metadata": {},
   "outputs": [],
   "source": [
    "# Ajustas a tabela (listcomprehesion) Um loop com uma serie de comandos (se le de tras pra frente)\n",
    "# Para cada linha do resultado esta sendo colocado o \"tipo\" concatenado com espaço e %\n",
    "# Para o percentual ficar arredondado em vez de muitas casas decimas, a segunda parte do codigo depois da concatenação com o espaço esta arredondando round(resultado1['percentual]' em [i] para 2 casas decimais.\n",
    "# O [i] que aparece em ambas as partes deste codigo é o mesmo do loop for, que é lido primeiro\n",
    "labels = [str(resultado1['type'][i])+ ' ' + '[' + str(round(resultado1['Percentual'][i],2)) + '%]' for i in resultado1.index]"
   ]
  },
  {
   "cell_type": "code",
   "execution_count": 41,
   "id": "26e6c7fe",
   "metadata": {},
   "outputs": [
    {
     "data": {
      "image/png": "[encoded data removed]",
      "text/plain": [
       "<Figure size 432x288 with 1 Axes>"
      ]
     },
     "metadata": {},
     "output_type": "display_data"
    }
   ],
   "source": [
    "# Grafico\n",
    "# Mapa de cores\n",
    "cs = cm.Set3(np.arange(100))\n",
    "\n",
    "# Cria figura\n",
    "f = plt.figure()\n",
    "\n",
    "# Função para criar grafico de pizza\n",
    "plt.pie(resultado1['COUNT'], labeldistance = 1, radius = 3, colors = cs, wedgeprops = dict(width = 0.8))\n",
    "plt.legend(labels = labels, loc = 'center', prop = {'size':12})\n",
    "plt.title('Distribuição de títulos', loc = 'Center', fontdict = {'fontsize' :20, 'fontweight' : 20})\n",
    "plt.show()"
   ]
  },
  {
   "cell_type": "code",
   "execution_count": null,
   "id": "9ff2254d",
   "metadata": {},
   "outputs": [],
   "source": []
  },
  {
   "cell_type": "code",
   "execution_count": null,
   "id": "dc6fd4a4",
   "metadata": {},
   "outputs": [],
   "source": []
  },
  {
   "cell_type": "code",
   "execution_count": null,
   "id": "b064164b",
   "metadata": {},
   "outputs": [],
   "source": []
  }
 ],
 "metadata": {
  "kernelspec": {
   "display_name": "Python 3",
   "language": "python",
   "name": "python3"
  },
  "language_info": {
   "codemirror_mode": {
    "name": "ipython",
    "version": 3
   },
   "file_extension": ".py",
   "mimetype": "text/x-python",
   "name": "python",
   "nbconvert_exporter": "python",
   "pygments_lexer": "ipython3",
   "version": "3.8.8"
  }
 },
 "nbformat": 4,
 "nbformat_minor": 5
}
