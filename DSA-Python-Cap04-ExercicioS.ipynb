{
 "cells": [
  {
   "cell_type": "markdown",
   "metadata": {},
   "source": [
    "# <font color='blue'>Data Science Academy - Python Fundamentos - Capítulo 4</font>\n",
    "\n",
    "## Download: http://github.com/dsacademybr"
   ]
  },
  {
   "cell_type": "markdown",
   "metadata": {},
   "source": [
    "## Exercícios "
   ]
  },
  {
   "cell_type": "code",
   "execution_count": null,
   "metadata": {},
   "outputs": [],
   "source": [
    "# Exercício 1 - Crie uma lista de 3 elementos e calcule a terceira potência de cada elemento."
   ]
  },
  {
   "cell_type": "code",
   "execution_count": 12,
   "metadata": {},
   "outputs": [
    {
     "name": "stdout",
     "output_type": "stream",
     "text": [
      "[1, 8, 27]\n"
     ]
    }
   ],
   "source": [
    "lista = [1,2,3]\n",
    "def potencia(n):\n",
    "    return(n**3)\n",
    "\n",
    "a = map(potencia,lista)\n",
    "print(list(a))"
   ]
  },
  {
   "cell_type": "code",
   "execution_count": 13,
   "metadata": {},
   "outputs": [
    {
     "name": "stdout",
     "output_type": "stream",
     "text": [
      "['A', 'a', 1]\n",
      "['DATA', 'data', 4]\n",
      "['SCIENCE', 'science', 7]\n",
      "['ACADEMY', 'academy', 7]\n",
      "['OFERCE', 'oferce', 6]\n",
      "['OS', 'os', 2]\n",
      "['MELHORES', 'melhores', 8]\n",
      "['CURSOS', 'cursos', 6]\n",
      "['DE', 'de', 2]\n",
      "['ANÁLISE', 'análise', 7]\n",
      "['DE', 'de', 2]\n",
      "['DADOS', 'dados', 5]\n",
      "['DO', 'do', 2]\n",
      "['BRASIL', 'brasil', 6]\n"
     ]
    }
   ],
   "source": [
    "# Exercício 2 - Reescreva o código abaixo, usando a função map(). O resultado final deve ser o mesmo!\n",
    "palavras = 'A Data Science Academy oferce os melhores cursos de análise de dados do Brasil'.split()\n",
    "resultado = [[w.upper(), w.lower(), len(w)] for w in palavras]\n",
    "for i in resultado:\n",
    "    print (i)"
   ]
  },
  {
   "cell_type": "code",
   "execution_count": 10,
   "metadata": {},
   "outputs": [
    {
     "name": "stdout",
     "output_type": "stream",
     "text": [
      "['A', 'a', 1]\n",
      "['DATA', 'data', 4]\n",
      "['SCIENCE', 'science', 7]\n",
      "['ACADEMY', 'academy', 7]\n",
      "['OFERCE', 'oferce', 6]\n",
      "['OS', 'os', 2]\n",
      "['MELHORES', 'melhores', 8]\n",
      "['CURSOS', 'cursos', 6]\n",
      "['DE', 'de', 2]\n",
      "['ANÁLISE', 'análise', 7]\n",
      "['DE', 'de', 2]\n",
      "['DADOS', 'dados', 5]\n",
      "['DO', 'do', 2]\n",
      "['BRASIL', 'brasil', 6]\n",
      "['A', 'a', 1]\n",
      "['DATA', 'data', 4]\n",
      "['SCIENCE', 'science', 7]\n",
      "['ACADEMY', 'academy', 7]\n",
      "['OFERCE', 'oferce', 6]\n",
      "['OS', 'os', 2]\n",
      "['MELHORES', 'melhores', 8]\n",
      "['CURSOS', 'cursos', 6]\n",
      "['DE', 'de', 2]\n",
      "['ANÁLISE', 'análise', 7]\n",
      "['DE', 'de', 2]\n",
      "['DADOS', 'dados', 5]\n",
      "['DO', 'do', 2]\n",
      "['BRASIL', 'brasil', 6]\n"
     ]
    }
   ],
   "source": [
    "palavras = 'A Data Science Academy oferce os melhores cursos de análise de dados do Brasil'.split()\n",
    "\n",
    "def mixi(i):\n",
    "    return [i.upper(), i.lower(), len(i)]\n",
    "        \n",
    "ar = map(mixi, palavras)\n",
    "for i in ar:\n",
    "    print(i)\n",
    "\n",
    "# -----------------------------------------------------------------------------------------------------\n",
    "bb = map(lambda w: [w.upper(), w.lower(), len(w)], palavras)\n",
    "for i in bb:\n",
    "    print(i)"
   ]
  },
  {
   "cell_type": "code",
   "execution_count": 14,
   "metadata": {},
   "outputs": [],
   "source": [
    "# Exercício 3 - Calcule a matriz transposta da matriz abaixo.\n",
    "# Caso não saiba o que é matriz transposta, visite este link: https://pt.wikipedia.org/wiki/Matriz_transposta\n",
    "# Matriz transposta é um conceito fundamental na construção de redes neurais artificiais, base de sistemas de IA.\n",
    "matrix = [[1, 2],[3,4],[5,6],[7,8]]"
   ]
  },
  {
   "cell_type": "code",
   "execution_count": 16,
   "metadata": {},
   "outputs": [
    {
     "name": "stdout",
     "output_type": "stream",
     "text": [
      "[0, 0]\n",
      "[1, 1]\n",
      "[4, 8]\n",
      "[9, 27]\n",
      "[16, 64]\n"
     ]
    }
   ],
   "source": [
    "# Exercício 4 - Crie duas funções, uma para elevar um número ao quadrado e outra para elevar ao cubo. \n",
    "# Aplique as duas funções aos elementos da lista abaixo. \n",
    "# Obs: as duas funções devem ser aplicadas simultaneamente.\n",
    "lista = [0, 1, 2, 3, 4]\n",
    "\n",
    "def quadrado(n1):\n",
    "    return n1 ** 2\n",
    "def cubo(n2):\n",
    "    return n2 ** 3\n",
    "\n",
    "funcs =[quadrado, cubo]\n",
    "\n",
    "for i in lista:\n",
    "    resultado = map(lambda x: x(i), funcs)\n",
    "    print(list(resultado))\n",
    "    \n"
   ]
  },
  {
   "cell_type": "code",
   "execution_count": 17,
   "metadata": {},
   "outputs": [
    {
     "name": "stdout",
     "output_type": "stream",
     "text": [
      "[1024, 177147, 16777216]\n"
     ]
    }
   ],
   "source": [
    "# Exercício 5 - Abaixo você encontra duas listas. Faça com que cada elemento da listaA seja elevado \n",
    "# ao elemento correspondente na listaB.\n",
    "listaA = [2, 3, 4]\n",
    "listaB = [10, 11, 12]\n",
    "\n",
    "alista = map(lambda x, y: x ** y, listaA, listaB)\n",
    "print(list(alista))\n",
    "\n"
   ]
  },
  {
   "cell_type": "code",
   "execution_count": 19,
   "metadata": {},
   "outputs": [
    {
     "name": "stdout",
     "output_type": "stream",
     "text": [
      "[-5, -4, -3, -2, -1]\n"
     ]
    }
   ],
   "source": [
    "# Exercício 6 - Considerando o range de valores abaixo, use a função filter() para retornar apenas os valores negativos.\n",
    "range(-5, 5)\n",
    "\n",
    "fil = filter(lambda x: x < 0, range(-5,5))\n",
    "print(list(fil))"
   ]
  },
  {
   "cell_type": "code",
   "execution_count": 33,
   "metadata": {},
   "outputs": [
    {
     "name": "stdout",
     "output_type": "stream",
     "text": [
      "[2, 3, 5, 7]\n"
     ]
    }
   ],
   "source": [
    "# Exercício 7 - Usando a função filter(), encontre os valores que são comuns às duas listas abaixo.\n",
    "a = [1,2,3,5,7,9]\n",
    "b = [2,3,5,6,7,8]\n",
    "\n",
    "def compare(na):\n",
    "    if na in b:\n",
    "        return True\n",
    "\n",
    "result = filter(compare, a)\n",
    "\n",
    "print(list(result))"
   ]
  },
  {
   "cell_type": "code",
   "execution_count": 34,
   "metadata": {},
   "outputs": [
    {
     "name": "stdout",
     "output_type": "stream",
     "text": [
      "15/09/2021 22:28\n"
     ]
    }
   ],
   "source": [
    "# Exercício 8 - Considere o código abaixo. Obtenha o mesmo resultado usando o pacote time. \n",
    "# Não conhece o pacote time? Pesquise!\n",
    "import datetime\n",
    "print (datetime.datetime.now().strftime(\"%d/%m/%Y %H:%M\"))"
   ]
  },
  {
   "cell_type": "code",
   "execution_count": 35,
   "metadata": {},
   "outputs": [],
   "source": [
    "import time"
   ]
  },
  {
   "cell_type": "code",
   "execution_count": 47,
   "metadata": {},
   "outputs": [
    {
     "name": "stdout",
     "output_type": "stream",
     "text": [
      "15 / 9 / 2021 22 : 38\n"
     ]
    }
   ],
   "source": [
    "result = time.localtime()\n",
    "print(result.tm_mday,'/', result.tm_mon,'/', result.tm_year, result.tm_hour,':', result.tm_min)\n"
   ]
  },
  {
   "cell_type": "code",
   "execution_count": 50,
   "metadata": {},
   "outputs": [
    {
     "name": "stdout",
     "output_type": "stream",
     "text": [
      "[('a', 4), ('b', 5)]\n"
     ]
    }
   ],
   "source": [
    "# Exercício 9 - Considere os dois dicionários abaixo. \n",
    "# Crie um terceiro dicionário com as chaves do dicionário 1 e os valores do dicionário 2.\n",
    "dict1 = {'a':1,'b':2}\n",
    "dict2 = {'c':4,'d':5}\n",
    "\n",
    "z = zip(dict1, dict2.values())\n",
    "print(list(z))"
   ]
  },
  {
   "cell_type": "code",
   "execution_count": 82,
   "metadata": {},
   "outputs": [],
   "source": [
    "# Exercício 10 - Considere a lista abaixo e retorne apenas os elementos cujo índice for maior que 5.\n",
    "lista = ['a', 'b', 'c', 'd', 'e', 'f', 'g', 'h']"
   ]
  },
  {
   "cell_type": "code",
   "execution_count": 95,
   "metadata": {},
   "outputs": [
    {
     "name": "stdout",
     "output_type": "stream",
     "text": [
      "g\n",
      "h\n",
      "[(0, 'a'), (1, 'b'), (2, 'c'), (3, 'd'), (4, 'e'), (5, 'f'), (6, 'g'), (7, 'h')]\n"
     ]
    }
   ],
   "source": [
    "lista = ['a', 'b', 'c', 'd', 'e', 'f', 'g', 'h']\n",
    "\n",
    "# Da pra retornar indice e valor ao mesmo tempo, e enumerate lista faz com que cada elemento receba seu indice numa tupla\n",
    "for i, v in enumerate(lista):\n",
    "    if i <= 5:\n",
    "        continue\n",
    "    else:\n",
    "        print(v)\n",
    "\n",
    "\n",
    "print(list(enumerate(lista)))"
   ]
  },
  {
   "cell_type": "markdown",
   "metadata": {},
   "source": [
    "# Fim"
   ]
  },
  {
   "cell_type": "markdown",
   "metadata": {},
   "source": [
    "### Obrigado - Data Science Academy - <a href=\"http://facebook.com/dsacademybr\">facebook.com/dsacademybr</a>"
   ]
  }
 ],
 "metadata": {
  "kernelspec": {
   "display_name": "Python 3",
   "language": "python",
   "name": "python3"
  },
  "language_info": {
   "codemirror_mode": {
    "name": "ipython",
    "version": 3
   },
   "file_extension": ".py",
   "mimetype": "text/x-python",
   "name": "python",
   "nbconvert_exporter": "python",
   "pygments_lexer": "ipython3",
   "version": "3.8.8"
  }
 },
 "nbformat": 4,
 "nbformat_minor": 1
}
